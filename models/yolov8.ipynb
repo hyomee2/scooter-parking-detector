{
  "nbformat": 4,
  "nbformat_minor": 0,
  "metadata": {
    "colab": {
      "provenance": [],
      "gpuType": "T4",
      "include_colab_link": true
    },
    "kernelspec": {
      "name": "python3",
      "display_name": "Python 3"
    },
    "language_info": {
      "name": "python"
    },
    "accelerator": "GPU"
  },
  "cells": [
    {
      "cell_type": "markdown",
      "metadata": {
        "id": "view-in-github",
        "colab_type": "text"
      },
      "source": [
        "<a href=\"https://colab.research.google.com/github/hyomee2/scooter-parking-detector/blob/main/models/yolov8.ipynb\" target=\"_parent\"><img src=\"https://colab.research.google.com/assets/colab-badge.svg\" alt=\"Open In Colab\"/></a>"
      ]
    },
    {
      "cell_type": "markdown",
      "metadata": {
        "id": "nKqGk6QIxiDv"
      },
      "source": [
        "## 1. 구글 드라이브 마운트"
      ]
    },
    {
      "cell_type": "code",
      "source": [
        "from google.colab import drive\n",
        "drive.mount('/content/drive')"
      ],
      "metadata": {
        "id": "4PQLCaLyuMOd"
      },
      "execution_count": null,
      "outputs": []
    },
    {
      "cell_type": "markdown",
      "metadata": {
        "id": "onTCj09jyM-G"
      },
      "source": [
        "## 2. YOLOv8을 위한 ultralytics 설치"
      ]
    },
    {
      "cell_type": "code",
      "execution_count": null,
      "metadata": {
        "id": "ZKLVGQkI9qjk"
      },
      "outputs": [],
      "source": [
        "!pip install ultralytics"
      ]
    },
    {
      "cell_type": "markdown",
      "metadata": {
        "id": "llzDy-cLxnhv"
      },
      "source": [
        "## 3. YOLOv8을 위한 데이터 디텍토리 구조 생성"
      ]
    },
    {
      "cell_type": "code",
      "source": [
        "import os\n",
        "import shutil\n",
        "import random\n",
        "from pathlib import Path\n",
        "\n",
        "# 경로 설정\n",
        "RAW_DIR = Path('/content/drive/MyDrive/데기인 팀플 7조/final_output/dataset/raw')\n",
        "LABEL_DIR = Path('/content/drive/MyDrive/데기인 팀플 7조/final_output/dataset/labelled_data')\n",
        "YOLO_DIR = Path('/content/drive/MyDrive/데기인 팀플 7조/final_output/dataset/yolo')\n",
        "CLASSES = ['improper', 'noise', 'proper']\n",
        "SPLITS = ['train', 'val', 'test']\n",
        "SPLIT_RATIO = [0.8, 0.1, 0.1]\n",
        "\n",
        "# 기존 YOLO 하위 디렉토리 삭제 후 생성\n",
        "for split in SPLITS:\n",
        "    split_dir = YOLO_DIR / split\n",
        "    if split_dir.exists():\n",
        "        shutil.rmtree(split_dir)  # 기존 폴더 통째로 삭제\n",
        "    (split_dir / 'images').mkdir(parents=True, exist_ok=True)\n",
        "    (split_dir / 'labels').mkdir(parents=True, exist_ok=True)\n",
        "\n",
        "def split_and_copy_images():\n",
        "    for cls in CLASSES:\n",
        "        # 디렉터리 무시하고 파일만 필터링\n",
        "        image_paths = [p for p in (RAW_DIR / cls).glob('*.*') if p.is_file()]\n",
        "        random.shuffle(image_paths)\n",
        "\n",
        "        total = len(image_paths)\n",
        "        train_end = int(total * SPLIT_RATIO[0])\n",
        "        val_end = train_end + int(total * SPLIT_RATIO[1])\n",
        "\n",
        "        split_paths = {\n",
        "            'train': image_paths[:train_end],\n",
        "            'val': image_paths[train_end:val_end],\n",
        "            'test': image_paths[val_end:]\n",
        "        }\n",
        "\n",
        "        for split, paths in split_paths.items():\n",
        "            for img_path in paths:\n",
        "                # 이미지 복사\n",
        "                dst_img_path = YOLO_DIR / split / 'images' / img_path.name\n",
        "                shutil.copy(img_path, dst_img_path)\n",
        "\n",
        "                # 레이블 복사\n",
        "                label_name = img_path.with_suffix('.txt').name\n",
        "                label_src = LABEL_DIR / label_name\n",
        "                label_dst = YOLO_DIR / split / 'labels' / label_name\n",
        "                if label_src.exists():\n",
        "                    shutil.copy(label_src, label_dst)\n",
        "                else:\n",
        "                    print(f'[경고] 레이블 파일 없음: {label_src}')\n",
        "\n",
        "if __name__ == \"__main__\":\n",
        "    split_and_copy_images()\n",
        "    print(\"✅ 데이터 분할 및 복사 완료.\")\n"
      ],
      "metadata": {
        "id": "QOSDz8fPOTZv"
      },
      "execution_count": null,
      "outputs": []
    },
    {
      "cell_type": "code",
      "source": [
        "import yaml\n",
        "\n",
        "def create_data_yaml():\n",
        "    yaml_dict = {\n",
        "        'train': str(YOLO_DIR / 'train' / 'images'),\n",
        "        'val': str(YOLO_DIR / 'val' / 'images'),\n",
        "        'nc': len(CLASSES),\n",
        "        'names': CLASSES\n",
        "    }\n",
        "    yaml_path = YOLO_DIR / 'data.yaml'\n",
        "    with open(yaml_path, 'w') as f:\n",
        "        yaml.dump(yaml_dict, f)\n",
        "    print(f\"✅ data.yaml 생성 완료 → {yaml_path}\")\n",
        "\n",
        "if __name__ == \"__main__\":\n",
        "    split_and_copy_images()\n",
        "    create_data_yaml()  # yaml 파일 생성까지 추가\n",
        "    print(\"✅ 데이터 분할 + yaml 파일까지 생성 완료.\")"
      ],
      "metadata": {
        "id": "uNu1kC691ni-"
      },
      "execution_count": null,
      "outputs": []
    },
    {
      "cell_type": "markdown",
      "metadata": {
        "id": "iNktR4YWyfFN"
      },
      "source": [
        "## 4. YOLOv8을 이용한 훈련 실행"
      ]
    },
    {
      "cell_type": "code",
      "execution_count": null,
      "metadata": {
        "id": "oVVmXqayEdi6"
      },
      "outputs": [],
      "source": [
        "from ultralytics import YOLO\n",
        "# 모델 로드 (사전 학습된 모델 사용)\n",
        "model = YOLO('yolov8n.pt')"
      ]
    },
    {
      "cell_type": "code",
      "source": [
        "import torch\n",
        "yaml_path = YOLO_DIR / 'data.yaml'\n",
        "# 훈련 실행\n",
        "model.train(\n",
        "    data=yaml_path,  # data.yaml 파일 경로\n",
        "    epochs=300,  # 훈련 epoch 수\n",
        "    patience = 30,\n",
        "    imgsz=640,  # 이미지 크기 (가장 일반적인 크기가 640)\n",
        "    batch=32,  # 배치 크기\n",
        "\n",
        "    # Learning rate schedule\n",
        "    lr0=0.02,      # 초기 learning rate → 약간 높게 시작해서 빠른 탐색 유도\n",
        "    lrf=0.01,      # 최종 learning rate multiplier (0.02 * 0.01 = 0.0002 수준까지 감소)\n",
        "    warmup_epochs=5,\n",
        "\n",
        "\n",
        "    # 증강\n",
        "    # degrees=15.0, # ±15도 내외 회전 (= Rotation_range=15)\n",
        "    translate=0.1, # 수평/수직 이동 (각각 이미지 크기의 10%) (= width_shift_range=0.1 & height_shift_range=0.1)\n",
        "    fliplr=1.0, # 좌우 반전 (horizontal_flip=True)\n",
        "    scale=0.2, # 확대/축소 (20% 내외로 확대/축소) (= zoom_range=0.2 )\n",
        "    hsv_v=0.2, # 밝기 변화 조정 (brightness_range=[0.8, 1.2]과 비슷하게 맞춤)\n",
        "    augment=True,        # 기본 augment 활성화\n",
        "    mosaic=0.3,\n",
        "    mixup=0.2,\n",
        "\n",
        "    project='/content/drive/MyDrive/result',  # 결과 저장 폴더\n",
        "    name='yolov8n_finetune',    # 훈련 이름\n",
        "    pretrained=True,            # 사전 학습된 모델 사용\n",
        "    val=True                    # 검증 수행\n",
        ")"
      ],
      "metadata": {
        "id": "dTW0be6DKFu6"
      },
      "execution_count": null,
      "outputs": []
    },
    {
      "cell_type": "markdown",
      "metadata": {
        "id": "Krd03if46-8O"
      },
      "source": [
        "## 5. YOLO 모델 평가"
      ]
    },
    {
      "cell_type": "code",
      "source": [
        "import pandas as pd\n",
        "result = pd.read_csv('/content/drive/MyDrive/result/yolov8n_finetune5/results.csv')"
      ],
      "metadata": {
        "id": "bms3e68HKI_z"
      },
      "execution_count": null,
      "outputs": []
    },
    {
      "cell_type": "code",
      "source": [
        "import matplotlib.pyplot as plt\n",
        "# 시각화할 주요 지표\n",
        "metrics_to_plot = [\n",
        "    ('train/box_loss', 'val/box_loss'),\n",
        "    ('train/cls_loss', 'val/cls_loss'),\n",
        "    ('train/dfl_loss', 'val/dfl_loss'),\n",
        "    ('metrics/mAP50(B)', 'metrics/mAP50-95(B)')\n",
        "]\n",
        "\n",
        "# 그래프 그리기\n",
        "for train_metric, val_metric in metrics_to_plot:\n",
        "    if train_metric in result.columns and val_metric in result.columns:\n",
        "        plt.figure()\n",
        "        plt.plot(result[train_metric], label=train_metric)\n",
        "        plt.plot(result[val_metric], label=val_metric)\n",
        "        plt.xlabel('Epoch')\n",
        "        plt.ylabel('Loss/Metric')\n",
        "        plt.title(f'{train_metric} vs {val_metric}')\n",
        "        plt.legend()\n",
        "        plt.grid(True)\n",
        "        plt.tight_layout()\n",
        "        plt.show()\n",
        "    else:\n",
        "        print(f\"❌ 열이 존재하지 않습니다: {train_metric} 또는 {val_metric}\")"
      ],
      "metadata": {
        "id": "RPmRuWzwKK33"
      },
      "execution_count": null,
      "outputs": []
    }
  ]
}